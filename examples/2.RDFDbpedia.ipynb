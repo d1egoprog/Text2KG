{
 "cells": [
  {
   "cell_type": "code",
   "execution_count": null,
   "id": "814147b8-81c0-4b47-aa53-9328c398f728",
   "metadata": {},
   "outputs": [],
   "source": [
    "import csv\n",
    "import json\n",
    "\n",
    "from utils import *"
   ]
  },
  {
   "cell_type": "code",
   "execution_count": null,
   "id": "d578e35c-3a22-47ef-936f-9aff0d208393",
   "metadata": {},
   "outputs": [],
   "source": [
    "triples = {}\n",
    "with open('../data/Triples.csv', encoding=\"utf-8\") as csv_file:\n",
    "    csv_reader = csv.DictReader(csv_file()\n",
    "    for row in csv_reader:\n",
    "        key = row['id']\n",
    "        triples[key] = row\n",
    "\n",
    "data = dict()\n",
    "data['text'] = json_object = json.dumps(triples, indent=4)\n",
    "data['URI'] = servers['stanford_host']\n"
   ]
  },
  {
   "cell_type": "code",
   "execution_count": null,
   "id": "027475f8-3098-403f-b088-42b70c2be8fe",
   "metadata": {},
   "outputs": [],
   "source": [
    "triples = executeRequest('POST',services['rdf_dbpedia'],headers,json_object)"
   ]
  }
 ],
 "metadata": {
  "kernelspec": {
   "display_name": "Python 3",
   "language": "python",
   "name": "python3"
  },
  "language_info": {
   "codemirror_mode": {
    "name": "ipython",
    "version": 3
   },
   "file_extension": ".py",
   "mimetype": "text/x-python",
   "name": "python",
   "nbconvert_exporter": "python",
   "pygments_lexer": "ipython3",
   "version": "3.6.9"
  }
 },
 "nbformat": 4,
 "nbformat_minor": 5
}
