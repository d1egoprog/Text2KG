{
 "cells": [
  {
   "cell_type": "code",
   "execution_count": null,
   "id": "0def5cf2-2efd-411a-aaab-79b529f3038f",
   "metadata": {},
   "outputs": [],
   "source": [
    "!pip install pandas"
   ]
  },
  {
   "cell_type": "code",
   "execution_count": 1,
   "id": "ee144a7a-9397-41e7-b71e-c64729414160",
   "metadata": {},
   "outputs": [],
   "source": [
    "import json\n",
    "#import pandas\n",
    "\n",
    "from utils import *"
   ]
  },
  {
   "cell_type": "code",
   "execution_count": 2,
   "id": "a32823b0-890a-48bd-8bf0-f156f8b1bb69",
   "metadata": {},
   "outputs": [],
   "source": [
    "text = open('LOTR-Wikipedia.txt', encoding=\"utf-8\").read()\n",
    "data = dict()\n",
    "data['text'] = text\n",
    "data['URI'] = servers['stanford_host']\n",
    "json_object = json.dumps(data, indent=4)"
   ]
  },
  {
   "cell_type": "code",
   "execution_count": 3,
   "id": "7d687e4a-ce50-485e-b75f-a3345348b466",
   "metadata": {},
   "outputs": [],
   "source": [
    "triples = executeRequest('POST',services['plain_all'],headers,json_object)"
   ]
  },
  {
   "cell_type": "code",
   "execution_count": null,
   "id": "2a51baee-f9df-43d8-8119-fdd23bfdd12a",
   "metadata": {},
   "outputs": [],
   "source": [
    "print(type(triples))\n",
    "triples = json.loads(triples)\n",
    "print(type(triples))\n",
    "data = dict()\n",
    "data['rdf-triples'] = triples\n",
    "data['config'] = dict()\n",
    "data['config']['URI'] = servers['neo4j_host']\n",
    "data['config']['user'] = servers['neo4j_user']\n",
    "data['config']['password'] = servers['neo4j_pass']\n",
    "json_object = json.dumps(data, indent=4)\n",
    "print(json_object)"
   ]
  },
  {
   "cell_type": "code",
   "execution_count": null,
   "id": "6bafa9f5-7931-4c54-9bb3-428a4e8e561a",
   "metadata": {},
   "outputs": [],
   "source": [
    "executeRequest('POST',services['neo4j'],headers,json_object)"
   ]
  },
  {
   "cell_type": "code",
   "execution_count": null,
   "id": "5260d177-8595-4a20-8bd7-5e66d5f0a041",
   "metadata": {},
   "outputs": [],
   "source": []
  }
 ],
 "metadata": {
  "kernelspec": {
   "display_name": "Python 3",
   "language": "python",
   "name": "python3"
  },
  "language_info": {
   "codemirror_mode": {
    "name": "ipython",
    "version": 3
   },
   "file_extension": ".py",
   "mimetype": "text/x-python",
   "name": "python",
   "nbconvert_exporter": "python",
   "pygments_lexer": "ipython3",
   "version": "3.6.9"
  }
 },
 "nbformat": 4,
 "nbformat_minor": 5
}
