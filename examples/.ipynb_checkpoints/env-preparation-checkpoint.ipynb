{
 "cells": [
  {
   "cell_type": "code",
   "execution_count": 2,
   "id": "0def5cf2-2efd-411a-aaab-79b529f3038f",
   "metadata": {},
   "outputs": [
    {
     "name": "stdout",
     "output_type": "stream",
     "text": [
      "Defaulting to user installation because normal site-packages is not writeable\n",
      "Collecting pandas\n",
      "  Downloading pandas-1.1.5-cp36-cp36m-manylinux1_x86_64.whl (9.5 MB)\n",
      "     |████████████████████████████████| 9.5 MB 3.8 MB/s            \n",
      "\u001b[?25hRequirement already satisfied: numpy>=1.15.4 in /usr/local/lib/python3.6/dist-packages (from pandas) (1.18.5)\n",
      "Requirement already satisfied: pytz>=2017.2 in /home/jupyter/.local/lib/python3.6/site-packages (from pandas) (2022.1)\n",
      "Requirement already satisfied: python-dateutil>=2.7.3 in /home/jupyter/.local/lib/python3.6/site-packages (from pandas) (2.8.2)\n",
      "Requirement already satisfied: six>=1.5 in /usr/lib/python3/dist-packages (from python-dateutil>=2.7.3->pandas) (1.11.0)\n",
      "Installing collected packages: pandas\n",
      "Successfully installed pandas-1.1.5\n"
     ]
    }
   ],
   "source": [
    "!pip install pandas"
   ]
  },
  {
   "cell_type": "code",
   "execution_count": 1,
   "id": "ee144a7a-9397-41e7-b71e-c64729414160",
   "metadata": {},
   "outputs": [],
   "source": [
    "import json\n",
    "#import pandas\n",
    "\n",
    "from utils import *"
   ]
  },
  {
   "cell_type": "code",
   "execution_count": 2,
   "id": "a32823b0-890a-48bd-8bf0-f156f8b1bb69",
   "metadata": {},
   "outputs": [],
   "source": [
    "text = open('LOTR-Wikipedia-small.txt', encoding=\"utf-8\").read()\n",
    "data = dict()\n",
    "data['text'] = text\n",
    "data['URI'] = servers['stanford_host']\n",
    "json_object = json.dumps(data, indent=4)"
   ]
  },
  {
   "cell_type": "code",
   "execution_count": 3,
   "id": "7d687e4a-ce50-485e-b75f-a3345348b466",
   "metadata": {},
   "outputs": [
    {
     "name": "stdout",
     "output_type": "stream",
     "text": [
      "{'text': \"Bilbo celebrates his 111th birthday and leaves the Shire suddenly without warning, leaving the Ring to Frodo Baggins, his cousin and heir. Neither hobbit is aware of the Ring's nature, but the wizard Gandalf realises that it is a Ring of Power. Seventeen years later, Gandalf tells Frodo that he has confirmed that the Ring is the one lost by the Dark Lord Sauron long ago and counsels him to take it away from the Shire. Gandalf leaves, promising to return by Frodo's birthday and accompany him on his journey, but fails to do so.\", 'URI': 'http://172.18.0.102:9000'}\n"
     ]
    }
   ],
   "source": [
    "print(data)"
   ]
  },
  {
   "cell_type": "code",
   "execution_count": 4,
   "id": "9bda957e-7bdf-4b3d-ad0c-b428038ff98b",
   "metadata": {},
   "outputs": [
    {
     "name": "stdout",
     "output_type": "stream",
     "text": [
      "[{\"subject\": \"Bilbo\", \"relation\": \"celebrates\", \"object\": \"Bilbo 111th birthday\"}, {\"subject\": \"Bilbo\", \"relation\": \"celebrates\", \"object\": \"Bilbo birthday\"}, {\"subject\": \"Bilbo\", \"relation\": \"leaves Shire without\", \"object\": \"warning\"}, {\"subject\": \"Bilbo\", \"relation\": \"leaves\", \"object\": \"Shire\"}, {\"subject\": \"Bilbo\", \"relation\": \"leaves Shire suddenly without\", \"object\": \"warning\"}, {\"subject\": \"Bilbo\", \"relation\": \"leaves suddenly\", \"object\": \"Shire\"}, {\"subject\": \"it\", \"relation\": \"is\", \"object\": \"Ring\"}, {\"subject\": \"it\", \"relation\": \"is Ring of\", \"object\": \"Power\"}, {\"subject\": \"wizard Gandalf\", \"relation\": \"tells\", \"object\": \"Frodo\"}, {\"subject\": \"wizard Gandalf\", \"relation\": \"fails\", \"object\": \"to do so\"}, {\"subject\": \"Bilbo\", \"relation\": \"warning\", \"object\": \"Shire\"}, {\"subject\": \"Ring\", \"relation\": \"leaving\", \"object\": \"Baggins\"}, {\"subject\": \"hobbit\", \"relation\": \"is\", \"object\": \"nature\"}, {\"subject\": \"Gandalf\", \"relation\": \"is\", \"object\": \"Power\"}, {\"subject\": \"Gandalf\", \"relation\": \"take\", \"object\": \"Shire\"}, {\"subject\": \"Frodo\", \"relation\": \"return\", \"object\": \"journey\"}, {\"subject\": \"birthday\", \"relation\": \"leaves\", \"object\": \"Shire\"}, {\"subject\": \"Gandalf\", \"relation\": \"realises Ring\", \"object\": \"Power\"}, {\"subject\": \"Gandalf\", \"relation\": \"tells\", \"object\": \"Frodo\"}]\n"
     ]
    }
   ],
   "source": [
    "triples = executeRequest('POST', services['plain_all'], headers, json_object)\n",
    "print(triples)"
   ]
  },
  {
   "cell_type": "code",
   "execution_count": 5,
   "id": "2a51baee-f9df-43d8-8119-fdd23bfdd12a",
   "metadata": {},
   "outputs": [
    {
     "name": "stdout",
     "output_type": "stream",
     "text": [
      "<class 'str'>\n",
      "<class 'list'>\n",
      "{'rdf-triples': [{'subject': 'Bilbo', 'relation': 'celebrates', 'object': 'Bilbo 111th birthday'}, {'subject': 'Bilbo', 'relation': 'celebrates', 'object': 'Bilbo birthday'}, {'subject': 'Bilbo', 'relation': 'leaves Shire without', 'object': 'warning'}, {'subject': 'Bilbo', 'relation': 'leaves', 'object': 'Shire'}, {'subject': 'Bilbo', 'relation': 'leaves Shire suddenly without', 'object': 'warning'}, {'subject': 'Bilbo', 'relation': 'leaves suddenly', 'object': 'Shire'}, {'subject': 'it', 'relation': 'is', 'object': 'Ring'}, {'subject': 'it', 'relation': 'is Ring of', 'object': 'Power'}, {'subject': 'wizard Gandalf', 'relation': 'tells', 'object': 'Frodo'}, {'subject': 'wizard Gandalf', 'relation': 'fails', 'object': 'to do so'}, {'subject': 'Bilbo', 'relation': 'warning', 'object': 'Shire'}, {'subject': 'Ring', 'relation': 'leaving', 'object': 'Baggins'}, {'subject': 'hobbit', 'relation': 'is', 'object': 'nature'}, {'subject': 'Gandalf', 'relation': 'is', 'object': 'Power'}, {'subject': 'Gandalf', 'relation': 'take', 'object': 'Shire'}, {'subject': 'Frodo', 'relation': 'return', 'object': 'journey'}, {'subject': 'birthday', 'relation': 'leaves', 'object': 'Shire'}, {'subject': 'Gandalf', 'relation': 'realises Ring', 'object': 'Power'}, {'subject': 'Gandalf', 'relation': 'tells', 'object': 'Frodo'}], 'config': {'URI': 'neo4j://172.18.0.103:7687', 'neo4j': 'neo4j', 'test': 'test'}}\n"
     ]
    }
   ],
   "source": [
    "print(type(triples))\n",
    "triples = json.loads(triples)\n",
    "print(type(triples))\n",
    "data = dict()\n",
    "data['rdf-triples'] = triples\n",
    "data['config'] = dict()\n",
    "data['config']['URI'] = servers['neo4j_host']\n",
    "data['config']['neo4j'] = servers['neo4j_user']\n",
    "data['config']['password'] = servers['neo4j_pass']\n",
    "print(data)"
   ]
  },
  {
   "cell_type": "code",
   "execution_count": 6,
   "id": "6bafa9f5-7931-4c54-9bb3-428a4e8e561a",
   "metadata": {},
   "outputs": [
    {
     "data": {
      "text/plain": [
       "requests.exceptions.HTTPError('400 Client Error: BAD REQUEST for url: http://172.18.0.101:5000/api/v1/save/NEO4J')"
      ]
     },
     "execution_count": 6,
     "metadata": {},
     "output_type": "execute_result"
    }
   ],
   "source": [
    "executeRequest('POST',services['neo4j'],headers,data)"
   ]
  },
  {
   "cell_type": "code",
   "execution_count": null,
   "id": "5260d177-8595-4a20-8bd7-5e66d5f0a041",
   "metadata": {},
   "outputs": [],
   "source": []
  }
 ],
 "metadata": {
  "kernelspec": {
   "display_name": "Python 3",
   "language": "python",
   "name": "python3"
  },
  "language_info": {
   "codemirror_mode": {
    "name": "ipython",
    "version": 3
   },
   "file_extension": ".py",
   "mimetype": "text/x-python",
   "name": "python",
   "nbconvert_exporter": "python",
   "pygments_lexer": "ipython3",
   "version": "3.6.9"
  }
 },
 "nbformat": 4,
 "nbformat_minor": 5
}
